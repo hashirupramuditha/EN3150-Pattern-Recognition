{
 "cells": [
  {
   "cell_type": "code",
   "execution_count": 1,
   "id": "69c086e6",
   "metadata": {
    "_cell_guid": "b1076dfc-b9ad-4769-8c92-a6c4dae69d19",
    "_uuid": "8f2839f25d086af736a60e9eeb907d3b93b6e0e5",
    "execution": {
     "iopub.execute_input": "2023-11-26T14:11:18.708854Z",
     "iopub.status.busy": "2023-11-26T14:11:18.708493Z",
     "iopub.status.idle": "2023-11-26T14:11:47.983439Z",
     "shell.execute_reply": "2023-11-26T14:11:47.982529Z"
    },
    "papermill": {
     "duration": 29.28326,
     "end_time": "2023-11-26T14:11:47.986075",
     "exception": false,
     "start_time": "2023-11-26T14:11:18.702815",
     "status": "completed"
    },
    "tags": []
   },
   "outputs": [
    {
     "name": "stderr",
     "output_type": "stream",
     "text": [
      "/opt/conda/lib/python3.10/site-packages/scipy/__init__.py:146: UserWarning: A NumPy version >=1.16.5 and <1.23.0 is required for this version of SciPy (detected version 1.23.5\n",
      "  warnings.warn(f\"A NumPy version >={np_minversion} and <{np_maxversion}\"\n"
     ]
    },
    {
     "name": "stdout",
     "output_type": "stream",
     "text": [
      "Downloading data from https://www.cs.toronto.edu/~kriz/cifar-10-python.tar.gz\n",
      "170498071/170498071 [==============================] - 18s 0us/step\n"
     ]
    }
   ],
   "source": [
    "from keras . datasets import cifar10\n",
    "\n",
    "# Load the CIFAR -10 dataset\n",
    "( train_images , train_labels ) , ( test_images ,test_labels ) = cifar10 . load_data ()"
   ]
  },
  {
   "cell_type": "code",
   "execution_count": 2,
   "id": "6a1f68ed",
   "metadata": {
    "execution": {
     "iopub.execute_input": "2023-11-26T14:11:48.051835Z",
     "iopub.status.busy": "2023-11-26T14:11:48.051181Z",
     "iopub.status.idle": "2023-11-26T14:11:49.378204Z",
     "shell.execute_reply": "2023-11-26T14:11:49.377181Z"
    },
    "papermill": {
     "duration": 1.361891,
     "end_time": "2023-11-26T14:11:49.380690",
     "exception": false,
     "start_time": "2023-11-26T14:11:48.018799",
     "status": "completed"
    },
    "tags": []
   },
   "outputs": [],
   "source": [
    "from tensorflow import keras\n",
    "import matplotlib . pyplot as plt\n",
    "import numpy as np\n",
    "from  sklearn.model_selection import train_test_split\n",
    "from sklearn import preprocessing\n",
    "from keras . utils import to_categorical\n",
    "from keras.preprocessing.image import ImageDataGenerator\n",
    "\n",
    "# concatenate all the images into a single array\n",
    "images = np . concatenate (( train_images , test_images ), axis =0)\n",
    "labels = np . concatenate (( train_labels , test_labels ), axis =0)\n",
    "\n",
    "# random shullfe the images and labels\n",
    "indices = np . random . permutation ( len ( images ))\n",
    "images = images [ indices ]\n",
    "labels = labels [ indices ]\n",
    "\n",
    "#split data into training ,validation and test sets\n",
    "train_images , test_images , train_labels , test_labels = train_test_split ( images , labels , test_size =0.2)\n",
    "train_images , valid_images , train_labels , valid_labels = train_test_split( train_images , train_labels , test_size =0.25)\n",
    "\n",
    "# convert to numpy arrays\n",
    "train_images = np . array ( train_images )\n",
    "test_images = np . array ( test_images )\n",
    "valid_images = np . array ( valid_images )\n",
    "train_labels = np . array ( train_labels )\n",
    "test_labels = np . array ( test_labels )\n",
    "valid_labels = np . array ( valid_labels )\n",
    "\n",
    "# normalize the images\n",
    "train_images = train_images . astype ( 'float32' ) / 255\n",
    "test_images = test_images . astype ( 'float32' ) / 255\n",
    "valid_images = valid_images . astype ( 'float32' ) / 255\n",
    "\n"
   ]
  },
  {
   "cell_type": "code",
   "execution_count": 3,
   "id": "d14861ce",
   "metadata": {
    "execution": {
     "iopub.execute_input": "2023-11-26T14:11:49.443034Z",
     "iopub.status.busy": "2023-11-26T14:11:49.442329Z",
     "iopub.status.idle": "2023-11-26T14:11:49.449323Z",
     "shell.execute_reply": "2023-11-26T14:11:49.448390Z"
    },
    "papermill": {
     "duration": 0.040049,
     "end_time": "2023-11-26T14:11:49.451317",
     "exception": false,
     "start_time": "2023-11-26T14:11:49.411268",
     "status": "completed"
    },
    "tags": []
   },
   "outputs": [
    {
     "name": "stdout",
     "output_type": "stream",
     "text": [
      "{0: 3663, 1: 3573, 2: 3644, 3: 3625, 4: 3557, 5: 3567, 6: 3628, 7: 3588, 8: 3582, 9: 3573}\n"
     ]
    }
   ],
   "source": [
    "# calculate the total number element for each class in the dataset\n",
    "unique , counts = np . unique ( train_labels , return_counts = True )\n",
    "\n",
    "print ( dict ( zip ( unique , counts )))"
   ]
  },
  {
   "cell_type": "code",
   "execution_count": 4,
   "id": "67fadd32",
   "metadata": {
    "execution": {
     "iopub.execute_input": "2023-11-26T14:11:49.512086Z",
     "iopub.status.busy": "2023-11-26T14:11:49.511736Z",
     "iopub.status.idle": "2023-11-26T14:11:49.516925Z",
     "shell.execute_reply": "2023-11-26T14:11:49.516046Z"
    },
    "papermill": {
     "duration": 0.037795,
     "end_time": "2023-11-26T14:11:49.518934",
     "exception": false,
     "start_time": "2023-11-26T14:11:49.481139",
     "status": "completed"
    },
    "tags": []
   },
   "outputs": [],
   "source": [
    "# from keras . models import Sequential\n",
    "# from keras . layers import Conv2D , MaxPooling2D , Flatten , Dense , Dropout\n",
    "# from keras . optimizers import Adam\n",
    "# from keras . losses import sparse_categorical_crossentropy\n",
    "\n",
    "# def run_model(learning_rate):\n",
    "#     # create the model\n",
    "#     CNN_model = Sequential ()\n",
    "\n",
    "#     # add layers\n",
    "\n",
    "#     CNN_model.add(Conv2D(filters =128 , kernel_size =(3 ,3) ,padding='same', activation = 'relu' , input_shape =(32 ,32 ,3)))\n",
    "#     CNN_model.add(MaxPooling2D(pool_size =(2 ,2)))\n",
    "#     CNN_model.add(Conv2D(filters =64 , kernel_size =(3 ,3) , padding='same',activation = 'relu'))\n",
    "#     CNN_model.add(MaxPooling2D(pool_size =(2 ,2)))\n",
    "#     CNN_model.add(Dropout(0.3))\n",
    "#     CNN_model.add(Conv2D(filters =32 , kernel_size =(3 ,3) ,padding='same', activation = 'relu'))\n",
    "#     CNN_model.add(MaxPooling2D(pool_size =(2 ,2)))\n",
    "#     CNN_model.add(Flatten())   \n",
    "#     CNN_model.add(Dense(512 , activation = 'relu'))\n",
    "#     CNN_model.add(Dropout(0.3)) \n",
    "#     CNN_model.add(Dense(10 , activation = 'softmax'))\n",
    "\n",
    "#     # compile the model\n",
    "#     CNN_model.compile(loss= sparse_categorical_crossentropy , optimizer = Adam ( learning_rate=learning_rate) , metrics =[ 'accuracy' ])\n",
    "\n",
    "#     # train the model\n",
    "#     model_history=CNN_model.fit(train_images , train_labels , batch_size =512 , epochs =20 ,validation_data =( valid_images , valid_labels ))\n",
    "    \n",
    "#     return CNN_model, model_history\n",
    "\n"
   ]
  },
  {
   "cell_type": "code",
   "execution_count": null,
   "id": "8fb56500",
   "metadata": {
    "papermill": {
     "duration": 0.029023,
     "end_time": "2023-11-26T14:11:49.577347",
     "exception": false,
     "start_time": "2023-11-26T14:11:49.548324",
     "status": "completed"
    },
    "tags": []
   },
   "outputs": [],
   "source": []
  },
  {
   "cell_type": "code",
   "execution_count": 5,
   "id": "19dbb2c8",
   "metadata": {
    "execution": {
     "iopub.execute_input": "2023-11-26T14:11:49.638079Z",
     "iopub.status.busy": "2023-11-26T14:11:49.637360Z",
     "iopub.status.idle": "2023-11-26T14:17:35.720525Z",
     "shell.execute_reply": "2023-11-26T14:17:35.719567Z"
    },
    "papermill": {
     "duration": 346.115775,
     "end_time": "2023-11-26T14:17:35.722900",
     "exception": false,
     "start_time": "2023-11-26T14:11:49.607125",
     "status": "completed"
    },
    "tags": []
   },
   "outputs": [
    {
     "name": "stdout",
     "output_type": "stream",
     "text": [
      "Downloading data from https://storage.googleapis.com/tensorflow/keras-applications/inception_v3/inception_v3_weights_tf_dim_ordering_tf_kernels_notop.h5\n",
      "87910968/87910968 [==============================] - 4s 0us/step\n",
      "Epoch 1/20\n",
      "71/71 [==============================] - 39s 296ms/step - loss: 1.0440 - accuracy: 0.6392 - val_loss: 7.6912 - val_accuracy: 0.1063\n",
      "Epoch 2/20\n",
      "71/71 [==============================] - 16s 219ms/step - loss: 0.3811 - accuracy: 0.8770 - val_loss: 1.0416 - val_accuracy: 0.7064\n",
      "Epoch 3/20\n",
      "71/71 [==============================] - 16s 219ms/step - loss: 0.2267 - accuracy: 0.9259 - val_loss: 1.1834 - val_accuracy: 0.6762\n",
      "Epoch 4/20\n",
      "71/71 [==============================] - 16s 219ms/step - loss: 0.1569 - accuracy: 0.9486 - val_loss: 0.8962 - val_accuracy: 0.7573\n",
      "Epoch 5/20\n",
      "71/71 [==============================] - 16s 219ms/step - loss: 0.1255 - accuracy: 0.9604 - val_loss: 0.7355 - val_accuracy: 0.7987\n",
      "Epoch 6/20\n",
      "71/71 [==============================] - 16s 219ms/step - loss: 0.0999 - accuracy: 0.9672 - val_loss: 0.7522 - val_accuracy: 0.8097\n",
      "Epoch 7/20\n",
      "71/71 [==============================] - 15s 218ms/step - loss: 0.0878 - accuracy: 0.9724 - val_loss: 0.6226 - val_accuracy: 0.8448\n",
      "Epoch 8/20\n",
      "71/71 [==============================] - 16s 219ms/step - loss: 0.0691 - accuracy: 0.9774 - val_loss: 0.8754 - val_accuracy: 0.8071\n",
      "Epoch 9/20\n",
      "71/71 [==============================] - 16s 219ms/step - loss: 0.0572 - accuracy: 0.9811 - val_loss: 0.7589 - val_accuracy: 0.8188\n",
      "Epoch 10/20\n",
      "71/71 [==============================] - 15s 218ms/step - loss: 0.0617 - accuracy: 0.9804 - val_loss: 1.0901 - val_accuracy: 0.7607\n",
      "Epoch 11/20\n",
      "71/71 [==============================] - 15s 218ms/step - loss: 0.0533 - accuracy: 0.9823 - val_loss: 0.7280 - val_accuracy: 0.8366\n",
      "Epoch 12/20\n",
      "71/71 [==============================] - 15s 218ms/step - loss: 0.0418 - accuracy: 0.9859 - val_loss: 0.9395 - val_accuracy: 0.8033\n",
      "Epoch 13/20\n",
      "71/71 [==============================] - 15s 218ms/step - loss: 0.0414 - accuracy: 0.9866 - val_loss: 0.8562 - val_accuracy: 0.8187\n",
      "Epoch 14/20\n",
      "71/71 [==============================] - 15s 218ms/step - loss: 0.0448 - accuracy: 0.9853 - val_loss: 0.8654 - val_accuracy: 0.8252\n",
      "Epoch 15/20\n",
      "71/71 [==============================] - 15s 218ms/step - loss: 0.0372 - accuracy: 0.9884 - val_loss: 0.7072 - val_accuracy: 0.8418\n",
      "Epoch 16/20\n",
      "71/71 [==============================] - 15s 218ms/step - loss: 0.0374 - accuracy: 0.9880 - val_loss: 0.8310 - val_accuracy: 0.8273\n",
      "Epoch 17/20\n",
      "71/71 [==============================] - 15s 218ms/step - loss: 0.0363 - accuracy: 0.9877 - val_loss: 1.7264 - val_accuracy: 0.6881\n",
      "Epoch 18/20\n",
      "71/71 [==============================] - 16s 219ms/step - loss: 0.0323 - accuracy: 0.9898 - val_loss: 0.7895 - val_accuracy: 0.8315\n",
      "Epoch 19/20\n",
      "71/71 [==============================] - 15s 218ms/step - loss: 0.0302 - accuracy: 0.9902 - val_loss: 0.7261 - val_accuracy: 0.8467\n",
      "Epoch 20/20\n",
      "71/71 [==============================] - 16s 219ms/step - loss: 0.0390 - accuracy: 0.9874 - val_loss: 0.7314 - val_accuracy: 0.8514\n"
     ]
    }
   ],
   "source": [
    "import tensorflow as tf\n",
    "from keras.applications import InceptionV3\n",
    "from keras.models import Sequential\n",
    "from keras.layers import GlobalAveragePooling2D, Dense, Dropout\n",
    "from keras.optimizers import Adam\n",
    "from keras.losses import sparse_categorical_crossentropy\n",
    "\n",
    "# Create a Sequential model\n",
    "fine_tuned_model = Sequential()\n",
    "\n",
    "# Add a Resizing layer to adjust the input size to 75x75\n",
    "fine_tuned_model.add(tf.keras.layers.experimental.preprocessing.Resizing(75, 75, input_shape=(32, 32, 3)))\n",
    "\n",
    "# Load the pre-trained InceptionV3 (GoogLeNet) model without the top (fully connected) layers\n",
    "base_model = InceptionV3(weights='imagenet', include_top=False, input_shape=(75, 75, 3))\n",
    "\n",
    "# Add the InceptionV3 base model to your new model\n",
    "fine_tuned_model.add(base_model)\n",
    "\n",
    "# Add custom layers on top of InceptionV3\n",
    "fine_tuned_model.add(GlobalAveragePooling2D())\n",
    "fine_tuned_model.add(Dense(512, activation='tanh'))\n",
    "fine_tuned_model.add(Dropout(0.5))\n",
    "fine_tuned_model.add(Dense(10, activation='softmax'))\n",
    "\n",
    "# Compile the model\n",
    "fine_tuned_model.compile(loss=sparse_categorical_crossentropy, optimizer=Adam(learning_rate=0.001), metrics=['accuracy'])\n",
    "\n",
    "# Train the model using your data\n",
    "model_history = fine_tuned_model.fit(train_images, train_labels, batch_size=512, epochs=20, validation_data=(valid_images, valid_labels))\n",
    "\n"
   ]
  },
  {
   "cell_type": "code",
   "execution_count": 6,
   "id": "e931f3ba",
   "metadata": {
    "execution": {
     "iopub.execute_input": "2023-11-26T14:17:36.017012Z",
     "iopub.status.busy": "2023-11-26T14:17:36.016617Z",
     "iopub.status.idle": "2023-11-26T14:17:36.061231Z",
     "shell.execute_reply": "2023-11-26T14:17:36.060450Z"
    },
    "papermill": {
     "duration": 0.192927,
     "end_time": "2023-11-26T14:17:36.063084",
     "exception": false,
     "start_time": "2023-11-26T14:17:35.870157",
     "status": "completed"
    },
    "tags": []
   },
   "outputs": [
    {
     "name": "stdout",
     "output_type": "stream",
     "text": [
      "Model: \"sequential\"\n",
      "_________________________________________________________________\n",
      " Layer (type)                Output Shape              Param #   \n",
      "=================================================================\n",
      " resizing (Resizing)         (None, 75, 75, 3)         0         \n",
      "                                                                 \n",
      " inception_v3 (Functional)   (None, 1, 1, 2048)        21802784  \n",
      "                                                                 \n",
      " global_average_pooling2d (G  (None, 2048)             0         \n",
      " lobalAveragePooling2D)                                          \n",
      "                                                                 \n",
      " dense (Dense)               (None, 512)               1049088   \n",
      "                                                                 \n",
      " dropout (Dropout)           (None, 512)               0         \n",
      "                                                                 \n",
      " dense_1 (Dense)             (None, 10)                5130      \n",
      "                                                                 \n",
      "=================================================================\n",
      "Total params: 22,857,002\n",
      "Trainable params: 22,822,570\n",
      "Non-trainable params: 34,432\n",
      "_________________________________________________________________\n"
     ]
    }
   ],
   "source": [
    "fine_tuned_model.summary()"
   ]
  },
  {
   "cell_type": "code",
   "execution_count": 7,
   "id": "c64376bb",
   "metadata": {
    "execution": {
     "iopub.execute_input": "2023-11-26T14:17:36.356669Z",
     "iopub.status.busy": "2023-11-26T14:17:36.356333Z",
     "iopub.status.idle": "2023-11-26T14:17:36.378315Z",
     "shell.execute_reply": "2023-11-26T14:17:36.377373Z"
    },
    "papermill": {
     "duration": 0.17141,
     "end_time": "2023-11-26T14:17:36.380567",
     "exception": false,
     "start_time": "2023-11-26T14:17:36.209157",
     "status": "completed"
    },
    "tags": []
   },
   "outputs": [
    {
     "data": {
      "text/html": [
       "<div>\n",
       "<style scoped>\n",
       "    .dataframe tbody tr th:only-of-type {\n",
       "        vertical-align: middle;\n",
       "    }\n",
       "\n",
       "    .dataframe tbody tr th {\n",
       "        vertical-align: top;\n",
       "    }\n",
       "\n",
       "    .dataframe thead th {\n",
       "        text-align: right;\n",
       "    }\n",
       "</style>\n",
       "<table border=\"1\" class=\"dataframe\">\n",
       "  <thead>\n",
       "    <tr style=\"text-align: right;\">\n",
       "      <th></th>\n",
       "      <th>Epochs</th>\n",
       "      <th>Training loss</th>\n",
       "      <th>Validation loss</th>\n",
       "    </tr>\n",
       "  </thead>\n",
       "  <tbody>\n",
       "    <tr>\n",
       "      <th>0</th>\n",
       "      <td>1</td>\n",
       "      <td>1.043961</td>\n",
       "      <td>7.691170</td>\n",
       "    </tr>\n",
       "    <tr>\n",
       "      <th>1</th>\n",
       "      <td>2</td>\n",
       "      <td>0.381107</td>\n",
       "      <td>1.041599</td>\n",
       "    </tr>\n",
       "    <tr>\n",
       "      <th>2</th>\n",
       "      <td>3</td>\n",
       "      <td>0.226673</td>\n",
       "      <td>1.183366</td>\n",
       "    </tr>\n",
       "    <tr>\n",
       "      <th>3</th>\n",
       "      <td>4</td>\n",
       "      <td>0.156941</td>\n",
       "      <td>0.896160</td>\n",
       "    </tr>\n",
       "    <tr>\n",
       "      <th>4</th>\n",
       "      <td>5</td>\n",
       "      <td>0.125542</td>\n",
       "      <td>0.735536</td>\n",
       "    </tr>\n",
       "    <tr>\n",
       "      <th>5</th>\n",
       "      <td>6</td>\n",
       "      <td>0.099928</td>\n",
       "      <td>0.752157</td>\n",
       "    </tr>\n",
       "    <tr>\n",
       "      <th>6</th>\n",
       "      <td>7</td>\n",
       "      <td>0.087796</td>\n",
       "      <td>0.622562</td>\n",
       "    </tr>\n",
       "    <tr>\n",
       "      <th>7</th>\n",
       "      <td>8</td>\n",
       "      <td>0.069097</td>\n",
       "      <td>0.875360</td>\n",
       "    </tr>\n",
       "    <tr>\n",
       "      <th>8</th>\n",
       "      <td>9</td>\n",
       "      <td>0.057175</td>\n",
       "      <td>0.758897</td>\n",
       "    </tr>\n",
       "    <tr>\n",
       "      <th>9</th>\n",
       "      <td>10</td>\n",
       "      <td>0.061681</td>\n",
       "      <td>1.090129</td>\n",
       "    </tr>\n",
       "    <tr>\n",
       "      <th>10</th>\n",
       "      <td>11</td>\n",
       "      <td>0.053295</td>\n",
       "      <td>0.728046</td>\n",
       "    </tr>\n",
       "    <tr>\n",
       "      <th>11</th>\n",
       "      <td>12</td>\n",
       "      <td>0.041837</td>\n",
       "      <td>0.939502</td>\n",
       "    </tr>\n",
       "    <tr>\n",
       "      <th>12</th>\n",
       "      <td>13</td>\n",
       "      <td>0.041423</td>\n",
       "      <td>0.856193</td>\n",
       "    </tr>\n",
       "    <tr>\n",
       "      <th>13</th>\n",
       "      <td>14</td>\n",
       "      <td>0.044753</td>\n",
       "      <td>0.865409</td>\n",
       "    </tr>\n",
       "    <tr>\n",
       "      <th>14</th>\n",
       "      <td>15</td>\n",
       "      <td>0.037183</td>\n",
       "      <td>0.707198</td>\n",
       "    </tr>\n",
       "    <tr>\n",
       "      <th>15</th>\n",
       "      <td>16</td>\n",
       "      <td>0.037402</td>\n",
       "      <td>0.830972</td>\n",
       "    </tr>\n",
       "    <tr>\n",
       "      <th>16</th>\n",
       "      <td>17</td>\n",
       "      <td>0.036260</td>\n",
       "      <td>1.726402</td>\n",
       "    </tr>\n",
       "    <tr>\n",
       "      <th>17</th>\n",
       "      <td>18</td>\n",
       "      <td>0.032300</td>\n",
       "      <td>0.789480</td>\n",
       "    </tr>\n",
       "    <tr>\n",
       "      <th>18</th>\n",
       "      <td>19</td>\n",
       "      <td>0.030212</td>\n",
       "      <td>0.726100</td>\n",
       "    </tr>\n",
       "    <tr>\n",
       "      <th>19</th>\n",
       "      <td>20</td>\n",
       "      <td>0.038958</td>\n",
       "      <td>0.731396</td>\n",
       "    </tr>\n",
       "  </tbody>\n",
       "</table>\n",
       "</div>"
      ],
      "text/plain": [
       "    Epochs   Training loss   Validation loss \n",
       "0         1        1.043961          7.691170\n",
       "1         2        0.381107          1.041599\n",
       "2         3        0.226673          1.183366\n",
       "3         4        0.156941          0.896160\n",
       "4         5        0.125542          0.735536\n",
       "5         6        0.099928          0.752157\n",
       "6         7        0.087796          0.622562\n",
       "7         8        0.069097          0.875360\n",
       "8         9        0.057175          0.758897\n",
       "9        10        0.061681          1.090129\n",
       "10       11        0.053295          0.728046\n",
       "11       12        0.041837          0.939502\n",
       "12       13        0.041423          0.856193\n",
       "13       14        0.044753          0.865409\n",
       "14       15        0.037183          0.707198\n",
       "15       16        0.037402          0.830972\n",
       "16       17        0.036260          1.726402\n",
       "17       18        0.032300          0.789480\n",
       "18       19        0.030212          0.726100\n",
       "19       20        0.038958          0.731396"
      ]
     },
     "execution_count": 7,
     "metadata": {},
     "output_type": "execute_result"
    }
   ],
   "source": [
    "import pandas as pd\n",
    "\n",
    "train_loss = model_history.history['loss']\n",
    "val_loss = model_history.history['val_loss']\n",
    "\n",
    "data = {\"Epochs \": range(1, 21), \"Training loss \": train_loss, \"Validation loss \": val_loss}\n",
    "df = pd.DataFrame(data)\n",
    "df"
   ]
  },
  {
   "cell_type": "code",
   "execution_count": 8,
   "id": "f31cdc7a",
   "metadata": {
    "execution": {
     "iopub.execute_input": "2023-11-26T14:17:36.685738Z",
     "iopub.status.busy": "2023-11-26T14:17:36.684851Z",
     "iopub.status.idle": "2023-11-26T14:17:36.961187Z",
     "shell.execute_reply": "2023-11-26T14:17:36.960222Z"
    },
    "papermill": {
     "duration": 0.42752,
     "end_time": "2023-11-26T14:17:36.963464",
     "exception": false,
     "start_time": "2023-11-26T14:17:36.535944",
     "status": "completed"
    },
    "tags": []
   },
   "outputs": [
    {
     "data": {
      "image/png": "[encoded data removed]",
      "text/plain": [
       "<Figure size 640x480 with 1 Axes>"
      ]
     },
     "metadata": {},
     "output_type": "display_data"
    }
   ],
   "source": [
    "# plot the loss\n",
    "plt . plot ( model_history . history [ 'loss' ])\n",
    "plt . plot ( model_history . history [ 'val_loss' ])\n",
    "plt . title ( f'Model Loss (Model: InceptionV3)')\n",
    "plt . ylabel ( 'Loss' )\n",
    "plt . xlabel ( 'Epoch' )\n",
    "plt . legend ([ 'Train' , 'Validation' ], loc = 'upper left' )\n",
    "plt . show ()"
   ]
  },
  {
   "cell_type": "code",
   "execution_count": 9,
   "id": "a38ef27f",
   "metadata": {
    "execution": {
     "iopub.execute_input": "2023-11-26T14:17:37.263019Z",
     "iopub.status.busy": "2023-11-26T14:17:37.262373Z",
     "iopub.status.idle": "2023-11-26T14:17:37.268643Z",
     "shell.execute_reply": "2023-11-26T14:17:37.267742Z"
    },
    "papermill": {
     "duration": 0.159458,
     "end_time": "2023-11-26T14:17:37.270604",
     "exception": false,
     "start_time": "2023-11-26T14:17:37.111146",
     "status": "completed"
    },
    "tags": []
   },
   "outputs": [
    {
     "data": {
      "text/plain": [
       "[1.0439605712890625,\n",
       " 0.3811071217060089,\n",
       " 0.22667305171489716,\n",
       " 0.1569414734840393,\n",
       " 0.1255417913198471,\n",
       " 0.09992771595716476,\n",
       " 0.08779647201299667,\n",
       " 0.06909657269716263,\n",
       " 0.05717529356479645,\n",
       " 0.061681341379880905,\n",
       " 0.053294889628887177,\n",
       " 0.04183673858642578,\n",
       " 0.041422583162784576,\n",
       " 0.04475335404276848,\n",
       " 0.03718262538313866,\n",
       " 0.03740173578262329,\n",
       " 0.03625974431633949,\n",
       " 0.032299965620040894,\n",
       " 0.030211880803108215,\n",
       " 0.03895765170454979]"
      ]
     },
     "execution_count": 9,
     "metadata": {},
     "output_type": "execute_result"
    }
   ],
   "source": [
    "model_history . history [ 'loss' ]"
   ]
  },
  {
   "cell_type": "code",
   "execution_count": 10,
   "id": "151b1f68",
   "metadata": {
    "execution": {
     "iopub.execute_input": "2023-11-26T14:17:37.571421Z",
     "iopub.status.busy": "2023-11-26T14:17:37.570739Z",
     "iopub.status.idle": "2023-11-26T14:17:46.597585Z",
     "shell.execute_reply": "2023-11-26T14:17:46.596561Z"
    },
    "papermill": {
     "duration": 9.179759,
     "end_time": "2023-11-26T14:17:46.599624",
     "exception": false,
     "start_time": "2023-11-26T14:17:37.419865",
     "status": "completed"
    },
    "tags": []
   },
   "outputs": [
    {
     "name": "stdout",
     "output_type": "stream",
     "text": [
      "375/375 [==============================] - 7s 14ms/step\n"
     ]
    },
    {
     "data": {
      "image/png": "[encoded data removed]",
      "text/plain": [
       "<Figure size 800x600 with 2 Axes>"
      ]
     },
     "metadata": {},
     "output_type": "display_data"
    },
    {
     "name": "stdout",
     "output_type": "stream",
     "text": [
      "F1 score:  0.8417034978143955\n",
      "Precision score:  0.8554106329876028\n",
      "Recall score:  0.8428656467095094\n"
     ]
    }
   ],
   "source": [
    "import seaborn as sns\n",
    "from sklearn.metrics import confusion_matrix,f1_score,precision_score,recall_score\n",
    "\n",
    "# Predict the labels of the test set\n",
    "test_predicted_labels = fine_tuned_model.predict(test_images)\n",
    "\n",
    "# Convert predictions classes to one hot vectors\n",
    "test_predicted_labels = np.argmax(test_predicted_labels, axis=1)\n",
    "\n",
    "\n",
    "conf_matrix = confusion_matrix(test_labels, test_predicted_labels)\n",
    "\n",
    "# Plot confusion matrix using seaborn heatmap\n",
    "class_names = ['airplane', 'automobile', 'bird', 'cat', 'deer',\n",
    "               'dog', 'frog', 'horse', 'ship', 'truck']\n",
    "plt.figure(figsize=(8, 6))\n",
    "sns.heatmap(conf_matrix, annot=True, fmt=\"d\", cmap=\"Blues\", xticklabels=class_names, yticklabels=class_names)\n",
    "plt.xlabel('Predicted')\n",
    "plt.ylabel('Actual')\n",
    "plt.title('Confusion Matrix')\n",
    "\n",
    "plt.show()\n",
    "\n",
    "# Print f1, precision, and recall scores\n",
    "print(\"F1 score: \", f1_score(test_labels, test_predicted_labels, average='macro'))\n",
    "print(\"Precision score: \", precision_score(test_labels, test_predicted_labels, average='macro'))\n",
    "print(\"Recall score: \", recall_score(test_labels, test_predicted_labels, average='macro'))\n"
   ]
  }
 ],
 "metadata": {
  "kaggle": {
   "accelerator": "gpu",
   "dataSources": [],
   "dockerImageVersionId": 30559,
   "isGpuEnabled": true,
   "isInternetEnabled": true,
   "language": "python",
   "sourceType": "notebook"
  },
  "kernelspec": {
   "display_name": "Python 3",
   "language": "python",
   "name": "python3"
  },
  "language_info": {
   "codemirror_mode": {
    "name": "ipython",
    "version": 3
   },
   "file_extension": ".py",
   "mimetype": "text/x-python",
   "name": "python",
   "nbconvert_exporter": "python",
   "pygments_lexer": "ipython3",
   "version": "3.10.12"
  },
  "papermill": {
   "default_parameters": {},
   "duration": 394.697969,
   "end_time": "2023-11-26T14:17:50.017407",
   "environment_variables": {},
   "exception": null,
   "input_path": "__notebook__.ipynb",
   "output_path": "__notebook__.ipynb",
   "parameters": {},
   "start_time": "2023-11-26T14:11:15.319438",
   "version": "2.4.0"
  }
 },
 "nbformat": 4,
 "nbformat_minor": 5
}
